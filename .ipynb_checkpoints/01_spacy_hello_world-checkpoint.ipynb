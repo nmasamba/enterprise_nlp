{
 "cells": [
  {
   "cell_type": "code",
   "execution_count": null,
   "id": "f58c5d24",
   "metadata": {},
   "outputs": [],
   "source": [
    "import spacy\n",
    "import os\n",
    "import pandas as pd\n",
    "\n",
    "cwd = os.getcwd()"
   ]
  },
  {
   "cell_type": "code",
   "execution_count": null,
   "id": "795359d7",
   "metadata": {},
   "outputs": [],
   "source": [
    "# load spacy language model\n",
    "spacy_model = spacy.load('en_core_web_sm')"
   ]
  },
  {
   "cell_type": "code",
   "execution_count": null,
   "id": "141704f3",
   "metadata": {},
   "outputs": [],
   "source": [
    "# load publicly available Jeopardy dataset\n",
    "jeopardy = pd.read_csv(cwd+'/data/jeopardy_questions.csv')\n",
    "jeopardy"
   ]
  },
  {
   "cell_type": "code",
   "execution_count": null,
   "id": "de071bb1",
   "metadata": {},
   "outputs": [],
   "source": [
    "jeopardy.columns = map(lambda x: x.lower().strip(), jeopardy.columns)\n",
    "jeopardy = jeopardy[0:1000] # reduce data size for this example"
   ]
  },
  {
   "cell_type": "code",
   "execution_count": null,
   "id": "a36460d8",
   "metadata": {},
   "outputs": [],
   "source": [
    "jeopardy[\"question_tokens\"] = jeopardy[\"question\"].apply(lambda x: spacy_model(x))"
   ]
  },
  {
   "cell_type": "code",
   "execution_count": null,
   "id": "8163b2fd",
   "metadata": {},
   "outputs": [],
   "source": [
    "# Sanity check: view first question\n",
    "example_question = jeopardy.question[0]\n",
    "example_question_tokens = jeopardy.question_tokens[0]\n",
    "print(\"The first questions is:\")\n",
    "print(example_question)"
   ]
  },
  {
   "cell_type": "code",
   "execution_count": null,
   "id": "bd3e872c",
   "metadata": {},
   "outputs": [],
   "source": [
    "# Print individual tokens of first question\n",
    "print(\"The tokens from the first question are:\")\n",
    "for token in example_question_tokens:\n",
    "    print(token)"
   ]
  },
  {
   "cell_type": "code",
   "execution_count": null,
   "id": "446b406e",
   "metadata": {},
   "outputs": [],
   "source": [
    "# Part-of-speech tags for tokens in the first question\n",
    "print(\"Here are the Part-of-speech tags for each token in the first question:\")\n",
    "for token in example_question_tokens:\n",
    "    print(token.text,token.pos_, spacy.explain(token.pos_))"
   ]
  }
 ],
 "metadata": {
  "kernelspec": {
   "display_name": "Python [conda env:nlp]",
   "language": "python",
   "name": "conda-env-nlp-py"
  },
  "language_info": {
   "codemirror_mode": {
    "name": "ipython",
    "version": 3
   },
   "file_extension": ".py",
   "mimetype": "text/x-python",
   "name": "python",
   "nbconvert_exporter": "python",
   "pygments_lexer": "ipython3",
   "version": "3.10.13"
  }
 },
 "nbformat": 4,
 "nbformat_minor": 5
}
