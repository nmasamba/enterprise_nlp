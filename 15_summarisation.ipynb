{
 "cells": [
  {
   "cell_type": "markdown",
   "id": "bf517e8c",
   "metadata": {},
   "source": [
    "Summarisation creates a shorter version of a document or an article that captures all the important information. Along with translation, it is another example of a task that can be formulated as a sequence-to-sequence task. \n",
    "\n",
    "Summarisation can be:\n",
    "Extractive - extract the most relevant information from a document, or\n",
    "Abstractive - generate new text that captures the most relevant information.\n",
    "\n",
    "This guide shows how to:\n",
    "1. Finetune T5 on the California state bill subset of the BillSum dataset for abstractive summarisation.\n",
    "2. Use the finetuned model for inference.\n"
   ]
  },
  {
   "cell_type": "markdown",
   "id": "4e057cf4",
   "metadata": {},
   "source": [
    "# Libraries"
   ]
  },
  {
   "cell_type": "code",
   "execution_count": null,
   "id": "78f00213",
   "metadata": {},
   "outputs": [],
   "source": [
    "pip install transformers datasets evaluate rouge_score"
   ]
  },
  {
   "cell_type": "code",
   "execution_count": null,
   "id": "5badc161",
   "metadata": {},
   "outputs": [],
   "source": [
    "import torch\n",
    "from datasets import load_dataset\n",
    "\n",
    "mps_device = torch.device(\"mps\")"
   ]
  },
  {
   "cell_type": "markdown",
   "id": "881c5a16",
   "metadata": {},
   "source": [
    "# Data Load"
   ]
  },
  {
   "cell_type": "code",
   "execution_count": null,
   "id": "96954ba2",
   "metadata": {},
   "outputs": [],
   "source": [
    "# Load the smaller California state bill subset of the BillSum dataset\n",
    "billsum = load_dataset(\"billsum\", split=\"ca_test\")"
   ]
  },
  {
   "cell_type": "code",
   "execution_count": null,
   "id": "df8e8487",
   "metadata": {},
   "outputs": [],
   "source": [
    "# Use train_test_split to split the dataset\n",
    "billsum = billsum.train_test_split(test_size=0.2)\n",
    "\n",
    "# The two fields to use for modeling:\n",
    "# text: the text of the bill which’ll be the input to the model.\n",
    "# summary: a condensed version of text which will be the model target.\n",
    "billsum[\"train\"][0]"
   ]
  }
 ],
 "metadata": {
  "kernelspec": {
   "display_name": "Python [conda env:nlp]",
   "language": "python",
   "name": "conda-env-nlp-py"
  },
  "language_info": {
   "codemirror_mode": {
    "name": "ipython",
    "version": 3
   },
   "file_extension": ".py",
   "mimetype": "text/x-python",
   "name": "python",
   "nbconvert_exporter": "python",
   "pygments_lexer": "ipython3",
   "version": "3.10.13"
  }
 },
 "nbformat": 4,
 "nbformat_minor": 5
}
