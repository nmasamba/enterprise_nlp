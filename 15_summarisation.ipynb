{
 "cells": [
  {
   "cell_type": "markdown",
   "id": "15acb889",
   "metadata": {},
   "source": [
    "Summarisation creates a shorter version of a document or an article that captures all the important information. Along with translation, it is another example of a task that can be formulated as a sequence-to-sequence task. \n",
    "\n",
    "Summarisation can be:\n",
    "Extractive - extract the most relevant information from a document, or\n",
    "Abstractive - generate new text that captures the most relevant information.\n",
    "\n",
    "This guide shows how to:\n",
    "1. Finetune T5 on the California state bill subset of the BillSum dataset for abstractive summarisation.\n",
    "2. Use the finetuned model for inference.\n"
   ]
  },
  {
   "cell_type": "code",
   "execution_count": null,
   "id": "e086cb6b",
   "metadata": {},
   "outputs": [],
   "source": []
  }
 ],
 "metadata": {
  "kernelspec": {
   "display_name": "Python [conda env:nlp]",
   "language": "python",
   "name": "conda-env-nlp-py"
  },
  "language_info": {
   "codemirror_mode": {
    "name": "ipython",
    "version": 3
   },
   "file_extension": ".py",
   "mimetype": "text/x-python",
   "name": "python",
   "nbconvert_exporter": "python",
   "pygments_lexer": "ipython3",
   "version": "3.10.13"
  }
 },
 "nbformat": 4,
 "nbformat_minor": 5
}
