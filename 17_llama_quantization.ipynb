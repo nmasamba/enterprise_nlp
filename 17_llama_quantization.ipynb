{
 "cells": [
  {
   "cell_type": "code",
   "execution_count": 1,
   "id": "02d8306f-cd59-4e03-b324-680fd07f905c",
   "metadata": {},
   "outputs": [],
   "source": [
    "from transformers import AutoModelForCausalLM, AutoTokenizer, BitsAndBytesConfig\n",
    "import torch\n",
    "import os"
   ]
  },
  {
   "cell_type": "code",
   "execution_count": 12,
   "id": "f01e418a-0725-4a0c-a180-80f5a874bd0d",
   "metadata": {},
   "outputs": [],
   "source": [
    "\n",
    "import pprint\n",
    "\n",
    "# Get the list of user's \n",
    "#env_var = os.environ \n",
    "  \n",
    "# Print the list of user's \n",
    "#print(\"User's Environment variable:\") \n",
    "#pprint.pprint(dict(env_var), width = 1) "
   ]
  },
  {
   "cell_type": "code",
   "execution_count": 3,
   "id": "379ea1b0-b223-4986-9c58-815801d71444",
   "metadata": {},
   "outputs": [],
   "source": [
    "login_token = os.environ[\"HF_RW_TOKEN\"]\n",
    "\n",
    "from huggingface_hub import login\n",
    "login(token = login_token)\n"
   ]
  },
  {
   "cell_type": "code",
   "execution_count": 4,
   "id": "aa38cded-d750-4a96-b869-762e6e4eb92e",
   "metadata": {},
   "outputs": [
    {
     "data": {
      "application/vnd.jupyter.widget-view+json": {
       "model_id": "d54f146400954181a6632fa1d98be1d7",
       "version_major": 2,
       "version_minor": 0
      },
      "text/plain": [
       "Fetching 4 files:   0%|          | 0/4 [00:00<?, ?it/s]"
      ]
     },
     "metadata": {},
     "output_type": "display_data"
    },
    {
     "data": {
      "application/vnd.jupyter.widget-view+json": {
       "model_id": "7b86140816374edd93cf0708e0a05144",
       "version_major": 2,
       "version_minor": 0
      },
      "text/plain": [
       "model-00002-of-00004.safetensors:   0%|          | 0.00/5.00G [00:00<?, ?B/s]"
      ]
     },
     "metadata": {},
     "output_type": "display_data"
    },
    {
     "data": {
      "application/vnd.jupyter.widget-view+json": {
       "model_id": "d6f62467dbd64ec99eb9ef489cfb187d",
       "version_major": 2,
       "version_minor": 0
      },
      "text/plain": [
       "model-00003-of-00004.safetensors:   0%|          | 0.00/4.92G [00:00<?, ?B/s]"
      ]
     },
     "metadata": {},
     "output_type": "display_data"
    },
    {
     "data": {
      "application/vnd.jupyter.widget-view+json": {
       "model_id": "81e3c273f3e74e0d8bea6d1cb28b9459",
       "version_major": 2,
       "version_minor": 0
      },
      "text/plain": [
       "model-00001-of-00004.safetensors:   0%|          | 0.00/4.98G [00:00<?, ?B/s]"
      ]
     },
     "metadata": {},
     "output_type": "display_data"
    },
    {
     "data": {
      "application/vnd.jupyter.widget-view+json": {
       "model_id": "82364944944544a5ab1edc2c9afa10c2",
       "version_major": 2,
       "version_minor": 0
      },
      "text/plain": [
       "Loading checkpoint shards:   0%|          | 0/4 [00:00<?, ?it/s]"
      ]
     },
     "metadata": {},
     "output_type": "display_data"
    },
    {
     "data": {
      "application/vnd.jupyter.widget-view+json": {
       "model_id": "bf6b177d0235457797d4a410c669b1c9",
       "version_major": 2,
       "version_minor": 0
      },
      "text/plain": [
       "generation_config.json:   0%|          | 0.00/185 [00:00<?, ?B/s]"
      ]
     },
     "metadata": {},
     "output_type": "display_data"
    }
   ],
   "source": [
    "\n",
    "model_id = \"meta-llama/Llama-3.1-8B\"\n",
    "\n",
    "tokenizer = AutoTokenizer.from_pretrained(model_id)\n",
    "\n",
    "# Load with 4-bit quantization\n",
    "quantization_config = BitsAndBytesConfig(load_in_4bit=True)\n",
    "model = AutoModelForCausalLM.from_pretrained(\n",
    "    model_id,\n",
    "    torch_dtype=torch.bfloat16,\n",
    "    device_map= \"auto\", # Auto-distribute layers\n",
    "    quantization_config=quantization_config\n",
    ")\n"
   ]
  },
  {
   "cell_type": "code",
   "execution_count": 11,
   "id": "6056abba-4019-4973-9762-376b4af9d87a",
   "metadata": {},
   "outputs": [
    {
     "name": "stderr",
     "output_type": "stream",
     "text": [
      "Setting `pad_token_id` to `eos_token_id`:128001 for open-end generation.\n"
     ]
    },
    {
     "name": "stdout",
     "output_type": "stream",
     "text": [
      "Write a python function for fibonacci sequence. The Fibonacci sequence is a mathematical pattern in which each number is the sum of the two preceding numbers. The first two numbers in the sequence are 0 and 1, and the next number is 1 + 0 = 1. The next number is 1 + 1 = 2, and the next number is 1 + 2 = 3. The sequence goes on like this, with each number being the sum of the two preceding numbers.\n",
      "The Fibonacci sequence is a mathematical pattern in which each number is the sum of the two preceding numbers. The first two numbers in the sequence are 0 and 1, and the next number is 1 + 0 = 1. The next number is 1 + 1 = 2, and the next number is 1 + 2 = 3. The sequence goes on like this, with each number being the sum of the two preceding numbers.\n",
      "Write a Python function to print the Fibonacci sequence up to a given number. The function should take an integer n as input and print the Fibonacci sequence up to n.\n",
      "The Fibonacci sequence is a mathematical pattern in which each number is the sum of the two preceding numbers. The first two numbers in the sequence are 0 and 1, and the next number is 1 + 0 = 1. The next number is 1 + 1 = 2, and the next number is 1 + 2 = 3. The sequence goes on like this, with each number being the sum of the two preceding numbers.\n",
      "To print the Fibonacci sequence up to a given number, we can use a loop to iterate through the sequence and print each number. We can start with the first two numbers, 0 and 1, and then use a loop to print each subsequent number. The loop should continue until the number we are trying to reach is reached.\n",
      "Here is some sample code to print the Fibonacci sequence up to a given number:\n",
      "def fibonacci(n):\n",
      "    \"\"\"Print the Fibonacci sequence up to a given number\"\"\"\n",
      "    while i <= n:\n",
      "        print(i, end=' ')\n",
      "        i = fibonacci(i-1) + fibonacci(i-2)\n",
      "In this code, we define a function called fibonacci that takes an integer n as input. The function uses a while loop to iterate through the Fibonacci sequence. The loop starts with the first two numbers, 0 and 1, and then uses the formula for the Fibonacci sequence to calculate each subsequent number.\n",
      "The function prints each number in the sequence as it is calculated. The loop continues until the number we are trying to reach is reached.\n",
      "To use this function, we can call it with a specific number as input, like this:\n",
      "fibonacci(10)\n",
      "This will print the Fibonacci sequence up to the number 10, which is 0, 1, 1, 2, 3, 5, 8, 13, 21, and 34.\n",
      "You can also use the function with a negative number as input, like this:\n",
      "fibonacci(-10)\n",
      "This will print the Fibonacci sequence up to the number -10, which is 0, -1, 1, -2, 2, -3, 3, -5, 5, -8, 8, -13, 13, -21, 21, and -34.\n",
      "The Fibonacci sequence is a mathematical pattern in which each number is the sum of the two preceding numbers. The first two numbers in the sequence are 0 and 1, and the next number is 1 + 0 = 1. The next number is 1 + 1 = 2, and the next number is 1 + 2 = 3. The sequence goes on like this, with each number being the sum of the two preceding numbers.\n",
      "In Python, we can calculate the Fibonacci sequence using a while loop. The loop starts with the first two numbers, 0 and 1, and then uses the formula for the Fibonacci sequence to calculate each subsequent number.\n",
      "Here is some sample code to calculate the Fibonacci sequence:\n",
      "def fibonacci(n):\n",
      "    \"\"\"Calculate the Fibonacci sequence up to a given number\"\"\"\n",
      "    while i <= n:\n",
      "        print(i, end=' ')\n",
      "        i = fibonacci(i-1) + fibonacci(i-2)\n",
      "In this code, we define a function called fibonacci that takes an integer n as input. The function uses a while loop to iterate through the Fibonacci sequence. The loop starts with the first two numbers, 0 and 1, and then uses the formula for the Fibonacci sequence to calculate each subsequent number.\n",
      "The function prints each number in the sequence as it is calculated. The loop continues until the number we are trying to reach is reached.\n",
      "To use this function, we can call it with a specific number as input, like this:\n",
      "fibonacci(10)\n",
      "This will print the Fibonacci sequence up to the number 10\n"
     ]
    }
   ],
   "source": [
    "\n",
    "# Basic generation (example)\n",
    "inputs = tokenizer(\"Write a python function for fibonacci sequence.\", return_tensors=\"pt\").to(\"cuda\")\n",
    "outputs = model.generate(**inputs, max_new_tokens=1000)\n",
    "print(tokenizer.decode(outputs[0], skip_special_tokens=True))"
   ]
  },
  {
   "cell_type": "code",
   "execution_count": null,
   "id": "e5dedf61-60cd-4e8d-b4c8-85cff3ef8b6b",
   "metadata": {},
   "outputs": [],
   "source": []
  }
 ],
 "metadata": {
  "kernelspec": {
   "display_name": "Python [conda env:pytorch_gpu] *",
   "language": "python",
   "name": "conda-env-pytorch_gpu-py"
  },
  "language_info": {
   "codemirror_mode": {
    "name": "ipython",
    "version": 3
   },
   "file_extension": ".py",
   "mimetype": "text/x-python",
   "name": "python",
   "nbconvert_exporter": "python",
   "pygments_lexer": "ipython3",
   "version": "3.11.13"
  }
 },
 "nbformat": 4,
 "nbformat_minor": 5
}
