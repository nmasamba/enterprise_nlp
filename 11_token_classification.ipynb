{
 "cells": [
  {
   "cell_type": "code",
   "execution_count": null,
   "id": "fd02718e",
   "metadata": {},
   "outputs": [],
   "source": [
    "pip install transformers datasets evaluate seqeval"
   ]
  },
  {
   "cell_type": "markdown",
   "id": "25851934",
   "metadata": {},
   "source": [
    "# Task"
   ]
  },
  {
   "cell_type": "markdown",
   "id": "9063f1e5",
   "metadata": {},
   "source": [
    "Token classification assigns a label to individual tokens in a sentence. One of the most common token classification tasks is Named Entity Recognition (NER). NER attempts to find a label for each entity in a sentence, such as a person, location, or organization.\n",
    "\n",
    "This notebook shows how to:\n",
    "1. Finetune DistilBERT on the WNUT 17 dataset to detect new entities.\n",
    "2. Use the finetuned model for inference."
   ]
  },
  {
   "cell_type": "markdown",
   "id": "6778c141",
   "metadata": {},
   "source": [
    "# Libraries"
   ]
  },
  {
   "cell_type": "code",
   "execution_count": null,
   "id": "34b457a5",
   "metadata": {},
   "outputs": [],
   "source": [
    "from datasets import load_dataset"
   ]
  },
  {
   "cell_type": "markdown",
   "id": "cfba76c9",
   "metadata": {},
   "source": [
    "# Data"
   ]
  },
  {
   "cell_type": "code",
   "execution_count": null,
   "id": "a79aad7b",
   "metadata": {},
   "outputs": [],
   "source": [
    "# Load the WNUT 17 dataset from the 🤗 Datasets library\n",
    "wnut = load_dataset(\"wnut_17\")"
   ]
  }
 ],
 "metadata": {
  "kernelspec": {
   "display_name": "Python [conda env:nlp]",
   "language": "python",
   "name": "conda-env-nlp-py"
  },
  "language_info": {
   "codemirror_mode": {
    "name": "ipython",
    "version": 3
   },
   "file_extension": ".py",
   "mimetype": "text/x-python",
   "name": "python",
   "nbconvert_exporter": "python",
   "pygments_lexer": "ipython3",
   "version": "3.10.13"
  }
 },
 "nbformat": 4,
 "nbformat_minor": 5
}
