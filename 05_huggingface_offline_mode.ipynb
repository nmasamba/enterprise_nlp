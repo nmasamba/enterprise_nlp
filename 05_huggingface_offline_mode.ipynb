{
 "cells": [
  {
   "cell_type": "code",
   "execution_count": 3,
   "id": "b231ce62",
   "metadata": {},
   "outputs": [],
   "source": [
    "HF_DATASETS_OFFLINE=1 \n",
    "TRANSFORMERS_OFFLINE=1"
   ]
  },
  {
   "cell_type": "code",
   "execution_count": 7,
   "id": "21825113",
   "metadata": {},
   "outputs": [
    {
     "name": "stdout",
     "output_type": "stream",
     "text": [
      "python: can't open file '/Users/nm/.cache/huggingface/hub/examples/pytorch/translation/run_translation.py': [Errno 2] No such file or directory\r\n"
     ]
    }
   ],
   "source": [
    "!python ~/.cache/huggingface/hub/examples/pytorch/translation/run_translation.py\\\n",
    "--model_name_or_path t5-small --dataset_name wmt16 --dataset_config ro-en"
   ]
  },
  {
   "cell_type": "code",
   "execution_count": null,
   "id": "ab56f4d9",
   "metadata": {},
   "outputs": [],
   "source": []
  }
 ],
 "metadata": {
  "kernelspec": {
   "display_name": "Python [conda env:nlp]",
   "language": "python",
   "name": "conda-env-nlp-py"
  },
  "language_info": {
   "codemirror_mode": {
    "name": "ipython",
    "version": 3
   },
   "file_extension": ".py",
   "mimetype": "text/x-python",
   "name": "python",
   "nbconvert_exporter": "python",
   "pygments_lexer": "ipython3",
   "version": "3.10.13"
  }
 },
 "nbformat": 4,
 "nbformat_minor": 5
}
