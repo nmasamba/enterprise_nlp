{
 "cells": [
  {
   "cell_type": "markdown",
   "id": "3b81c805",
   "metadata": {},
   "source": [
    "A multiple choice task is similar to question answering, except several candidate answers are provided along with a context and the model is trained to select the correct answer.\n",
    "\n",
    "This guide shows how to:\n",
    "\n",
    "1. Finetune BERT on the regular configuration of the SWAG dataset to select the best answer given multiple options and some context.\n",
    "2. Use finetuned model for inference."
   ]
  },
  {
   "cell_type": "markdown",
   "id": "5d9b34b0",
   "metadata": {},
   "source": [
    "# Libraries"
   ]
  },
  {
   "cell_type": "code",
   "execution_count": null,
   "id": "19675866",
   "metadata": {},
   "outputs": [],
   "source": [
    "pip install transformers datasets evaluate"
   ]
  },
  {
   "cell_type": "code",
   "execution_count": null,
   "id": "39256a68",
   "metadata": {},
   "outputs": [],
   "source": [
    "from datasets import load_dataset"
   ]
  },
  {
   "cell_type": "markdown",
   "id": "5f324b37",
   "metadata": {},
   "source": [
    "# Load Data"
   ]
  },
  {
   "cell_type": "code",
   "execution_count": null,
   "id": "0a8f6533",
   "metadata": {},
   "outputs": [],
   "source": [
    "swag = load_dataset(\"swag\", \"regular\")"
   ]
  },
  {
   "cell_type": "code",
   "execution_count": null,
   "id": "b65592aa",
   "metadata": {},
   "outputs": [],
   "source": [
    "# Inspection\n",
    "# sent1 and sent2: these fields show how a sentence starts (put the two together, you get the startphrase field).\n",
    "# ending: suggests a possible ending for how a sentence can end, but only one of them is correct.\n",
    "# label: identifies the correct sentence ending.\n",
    "swag[\"train\"][0]"
   ]
  }
 ],
 "metadata": {
  "kernelspec": {
   "display_name": "Python [conda env:nlp]",
   "language": "python",
   "name": "conda-env-nlp-py"
  },
  "language_info": {
   "codemirror_mode": {
    "name": "ipython",
    "version": 3
   },
   "file_extension": ".py",
   "mimetype": "text/x-python",
   "name": "python",
   "nbconvert_exporter": "python",
   "pygments_lexer": "ipython3",
   "version": "3.10.13"
  }
 },
 "nbformat": 4,
 "nbformat_minor": 5
}
