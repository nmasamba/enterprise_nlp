{
 "cells": [
  {
   "cell_type": "markdown",
   "id": "69e68546",
   "metadata": {},
   "source": [
    "Question answering tasks return an answer given a question, e.g. in asking a virtual assistant like Alexa, Siri or Google what the weather is, you’ve used a question answering model before. \n",
    "\n",
    "There are two common types of question answering tasks:\n",
    "1. Extractive: extract the answer from the given context.\n",
    "2. Abstractive: generate an answer from the context that correctly answers the question.\n",
    "\n",
    "In this Huggingface-based notebook we:\n",
    "A) Finetune DistilBERT on the SQuAD dataset for **extractive** question answering.\n",
    "B) Use the finetuned model for inference."
   ]
  },
  {
   "cell_type": "markdown",
   "id": "8b9e8492",
   "metadata": {},
   "source": [
    "# Libraries"
   ]
  },
  {
   "cell_type": "code",
   "execution_count": null,
   "id": "510f7902",
   "metadata": {},
   "outputs": [],
   "source": [
    "!pip install transformers datasets evaluate"
   ]
  },
  {
   "cell_type": "code",
   "execution_count": null,
   "id": "9fe00dad",
   "metadata": {},
   "outputs": [],
   "source": [
    "# Log into Huggingface to share model with the community\n",
    "from huggingface_hub import notebook_login\n",
    "from datasets import load_dataset\n",
    "notebook_login()"
   ]
  },
  {
   "cell_type": "markdown",
   "id": "e781abec",
   "metadata": {},
   "source": [
    "# Load Data"
   ]
  },
  {
   "cell_type": "code",
   "execution_count": null,
   "id": "c27b5991",
   "metadata": {},
   "outputs": [],
   "source": [
    "# load a smaller subset of the SQuAD dataset from the 🤗 Datasets library for experimentation\n",
    "squad = load_dataset(\"squad\", split=\"train[:5000]\")"
   ]
  }
 ],
 "metadata": {
  "kernelspec": {
   "display_name": "Python [conda env:nlp]",
   "language": "python",
   "name": "conda-env-nlp-py"
  },
  "language_info": {
   "codemirror_mode": {
    "name": "ipython",
    "version": 3
   },
   "file_extension": ".py",
   "mimetype": "text/x-python",
   "name": "python",
   "nbconvert_exporter": "python",
   "pygments_lexer": "ipython3",
   "version": "3.10.13"
  }
 },
 "nbformat": 4,
 "nbformat_minor": 5
}
